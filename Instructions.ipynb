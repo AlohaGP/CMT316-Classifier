{
  "nbformat": 4,
  "nbformat_minor": 0,
  "metadata": {
    "colab": {
      "name": "Instructions.ipynb",
      "provenance": []
    },
    "kernelspec": {
      "name": "python3",
      "display_name": "Python 3"
    },
    "language_info": {
      "name": "python"
    }
  },
  "cells": [
    {
      "cell_type": "markdown",
      "source": [
        "**Data Proprecess**"
      ],
      "metadata": {
        "id": "AQ-TlMJ5fJkL"
      }
    },
    {
      "cell_type": "markdown",
      "source": [
        "import several libraries that I am going to use, including."
      ],
      "metadata": {
        "id": "mXM_2HCUex99"
      }
    },
    {
      "cell_type": "code",
      "execution_count": null,
      "metadata": {
        "id": "lRMJ5_JBew4_"
      },
      "outputs": [],
      "source": [
        "import os\n",
        "import nltk\n",
        "import numpy as np\n",
        "import pandas as pd\n",
        "import sklearn\n",
        "import operator\n",
        "import random\n",
        "from sklearn.model_selection import train_test_split\n",
        "from sklearn.feature_extraction.text import TfidfVectorizer\n",
        "from nltk.corpus import stopwords \n",
        "from google.colab import drive\n",
        "from sklearn.metrics import precision_score, recall_score, f1_score,accuracy_score\n",
        "nltk.download('stopwords')\n",
        "nltk.download('punkt')\n",
        "nltk.download('wordnet')"
      ]
    },
    {
      "cell_type": "markdown",
      "source": [
        "Obtain all Articles and Content"
      ],
      "metadata": {
        "id": "S1HWGzXFf-gP"
      }
    },
    {
      "cell_type": "code",
      "source": [
        "# Get all data and categories them\n",
        "ori_data=[]\n",
        "for c in category:\n",
        "  for file_name in os.listdir(dataset_path + \"/\" + c):\n",
        "    file = open(dataset_path + \"/\" + c + \"/\" +file_name, \"r\")\n",
        "    ori_data.append([file.read(), c])\n",
        "    file.close()\n",
        "All_data = pd.DataFrame(ori_data, columns=[\"content\",\"category\"])\n",
        "All_data.shape\n",
        "x_data = All_data.iloc[: , 0]\n",
        "y_data = All_data.iloc[: , -1]"
      ],
      "metadata": {
        "id": "VouKZLePgvmR"
      },
      "execution_count": null,
      "outputs": []
    },
    {
      "cell_type": "markdown",
      "source": [
        "Split all the original data"
      ],
      "metadata": {
        "id": "OHDf3dLBhXCz"
      }
    },
    {
      "cell_type": "code",
      "source": [
        "# Split all the original data into three different set, including train set (80%), development set (10%) and test set (10%).\n",
        "x_train, x_test, y_train, y_test = train_test_split(x_data, y_data, test_size=0.2, random_state=1)\n",
        "x_dev, x_test, y_dev, y_test = train_test_split(x_test, y_test, test_size=0.5, random_state=1)"
      ],
      "metadata": {
        "id": "Gi2F0OwZh0qk"
      },
      "execution_count": null,
      "outputs": []
    },
    {
      "cell_type": "markdown",
      "source": [
        "Remove words that are not useful for classification and unified format"
      ],
      "metadata": {
        "id": "VTcLU2AOihSJ"
      }
    },
    {
      "cell_type": "code",
      "source": [
        "stopwords=set(nltk.corpus.stopwords.words('english'))\n",
        "stopwords.add(\".\")\n",
        "stopwords.add(\",\")\n",
        "stopwords.add(\"-\")\n",
        "stopwords.add(\"``\")\n",
        "stopwords.add(\"/\")\n",
        "stopwords.add(\"(\")\n",
        "stopwords.add(\")\")\n",
        "stopwords.add(\"{\")\n",
        "stopwords.add(\"}\")\n",
        "stopwords.add(\"@\")\n",
        "stopwords.add(\"|\")\n",
        "stopwords.add(\";\")\n",
        "stopwords.add(\"\\n\")\n",
        "stopwords.add(\"#\")\n",
        "stopwords.add(\"+\")\n",
        "stopwords.add(\"_\")\n",
        "stopwords.add(\"''\")\n",
        "stopwords.add(\":\")\n",
        "stopwords.add(\"%\")\n",
        "stopwords.add(\"$\")\n",
        "stopwords.add(\"&\")\n",
        "stopwords.add(\"'\")\n",
        "\n",
        "lemmatizer = nltk.stem.WordNetLemmatizer()"
      ],
      "metadata": {
        "id": "LaQ1yOR6igC5"
      },
      "execution_count": null,
      "outputs": []
    },
    {
      "cell_type": "markdown",
      "source": [
        "**Feature Selection**"
      ],
      "metadata": {
        "id": "gMG9_vkJiFc-"
      }
    },
    {
      "cell_type": "markdown",
      "source": [
        "Feature 1: Article Word Frequency"
      ],
      "metadata": {
        "id": "szVijGYbiJge"
      }
    },
    {
      "cell_type": "code",
      "source": [
        "# Get sorted vocabulary list of feature 1\n",
        "word_fre = {}\n",
        "for article in x_train:\n",
        "  sentences = nltk.tokenize.sent_tokenize(article)\n",
        "  for sent in sentences:\n",
        "    tokens = nltk.tokenize.word_tokenize(sent)\n",
        "    for token in tokens:\n",
        "      word = lemmatizer.lemmatize(token).lower()\n",
        "      if word in stopwords: continue\n",
        "      if word in word_fre: word_fre[word] += 1\n",
        "      else: word_fre[word] = 1\n",
        "sorted_list = sorted(word_fre.items(), key = operator.itemgetter(1), reverse = True)"
      ],
      "metadata": {
        "id": "lvnba9LhiWVY"
      },
      "execution_count": null,
      "outputs": []
    },
    {
      "cell_type": "markdown",
      "source": [
        "Feature 2: Article Title Word Frequency"
      ],
      "metadata": {
        "id": "P3-Gq7uTj9uj"
      }
    },
    {
      "cell_type": "code",
      "source": [
        "# Get sorted vocabulary list of feature 2\n",
        "title_words_fre = {}\n",
        "for article in x_train:\n",
        "  sentences = nltk.tokenize.sent_tokenize(article)\n",
        "  tokens = nltk.tokenize.word_tokenize(sentences[0])\n",
        "  for token in tokens:\n",
        "      word = lemmatizer.lemmatize(token).lower()\n",
        "      if word in stopwords: continue\n",
        "      if word in title_words_fre: title_words_fre[word] += 1\n",
        "      else: title_words_fre[word] = 1\n",
        "sorted_list = sorted(title_words_fre.items(), key = operator.itemgetter(1), reverse = True)"
      ],
      "metadata": {
        "id": "ZZPmkjB2kExD"
      },
      "execution_count": null,
      "outputs": []
    },
    {
      "cell_type": "markdown",
      "source": [
        "Feature 3: TF-IDF (term frequency-inverse document frequency)"
      ],
      "metadata": {
        "id": "Lw5wvUTxkQjs"
      }
    },
    {
      "cell_type": "code",
      "source": [
        "# initialize all data to tf-idf Vectorizer and transform documents of train set and test set to matrix.\n",
        "tfidf_vector = TfidfVectorizer()\n",
        "tfidf_vector.fit(x_train)\n",
        "tfidf_train_x = tfidf_vector.transform(x_train)\n",
        "tfidf_test_x  = tfidf_vector.transform(x_test)"
      ],
      "metadata": {
        "id": "MdqH174AkVhV"
      },
      "execution_count": null,
      "outputs": []
    },
    {
      "cell_type": "markdown",
      "source": [
        "**Train, Test and Performance**"
      ],
      "metadata": {
        "id": "YiAD8f3_lC1m"
      }
    },
    {
      "cell_type": "markdown",
      "source": [
        "Feature 1"
      ],
      "metadata": {
        "id": "JGZdYm0FlatI"
      }
    },
    {
      "cell_type": "code",
      "source": [
        "cur_size = 20\n",
        "vocabulary = []\n",
        "accuracy = 0\n",
        "svm_clf_category = sklearn.svm.SVC(kernel=\"linear\",gamma=\"auto\")\n",
        "while accuracy < 0.9:\n",
        "    # generate vocabulary\n",
        "    vocabulary = []\n",
        "    for word,fre in sorted_list[:cur_size]:\n",
        "        vocabulary.append(word)\n",
        "    \n",
        "    # prepare x and y for model fit\n",
        "    x = []\n",
        "    y = []\n",
        "    for index in x_train.index:\n",
        "        article = x_train[index]\n",
        "        vector = np.zeros(len(vocabulary))\n",
        "        words=[]\n",
        "        sentences = nltk.tokenize.sent_tokenize(article)\n",
        "        for sent in sentences:\n",
        "            tokens = nltk.tokenize.word_tokenize(sent)\n",
        "            for token in tokens:\n",
        "              word = lemmatizer.lemmatize(token).lower()\n",
        "              words.append(word)\n",
        "        for i, word in enumerate(vocabulary):\n",
        "            if word in words:\n",
        "                vector[i] =words.count(word)\n",
        "        x.append(vector)\n",
        "        y.append(y_train[index])\n",
        "    \n",
        "    # fit model\n",
        "    svm_clf_category.fit(np.asarray(x), np.asarray(y))\n",
        "    \n",
        "    # prepare dev set for predictions\n",
        "    x = []\n",
        "    y = []\n",
        "    for index in x_dev.index:\n",
        "        article = x_dev[index]\n",
        "        vector = np.zeros(len(vocabulary))\n",
        "        words=[]\n",
        "        sentences = nltk.tokenize.sent_tokenize(article)\n",
        "        for sent in sentences:\n",
        "          tokens = nltk.tokenize.word_tokenize(sent)\n",
        "          for token in tokens:\n",
        "            word = lemmatizer.lemmatize(token).lower()\n",
        "            words.append(word)\n",
        "        for i, word in enumerate(vocabulary):\n",
        "            if word in words:\n",
        "                vector[i] =words.count(word)\n",
        "        x.append(vector)\n",
        "        y.append(y_dev[index])\n",
        "    \n",
        "    # predict accuracy\n",
        "    prediction = svm_clf_category.predict(np.asarray(x))\n",
        "    y = np.asarray(y)\n",
        "    accuracy = accuracy_score(y, prediction)\n",
        "    print(\"cur_size: \" + str(cur_size) + \", accuracy: \" + str(accuracy))\n",
        "    \n",
        "    # increase current size for better accuracy\n",
        "    cur_size += 20"
      ],
      "metadata": {
        "id": "J_GqX_71lcrm"
      },
      "execution_count": null,
      "outputs": []
    },
    {
      "cell_type": "markdown",
      "source": [
        "Performance"
      ],
      "metadata": {
        "id": "j5UkqrJJlnnf"
      }
    },
    {
      "cell_type": "code",
      "source": [
        "x = []\n",
        "y = []\n",
        "for index in x_test.index:\n",
        "  article = x_test[index]\n",
        "  vector = np.zeros(len(vocabulary))\n",
        "  words=[]\n",
        "  sentences = nltk.tokenize.sent_tokenize(article)\n",
        "  for sent in sentences:\n",
        "    tokens = nltk.tokenize.word_tokenize(sent)\n",
        "    for token in tokens:\n",
        "      word = lemmatizer.lemmatize(token).lower()\n",
        "      words.append(word)\n",
        "  for i, word in enumerate(vocabulary):\n",
        "    if word in words:\n",
        "      vector[i] =words.count(word)\n",
        "  x.append(vector)\n",
        "  y.append(y_test[index])\n",
        "prediction = svm_clf_category.predict(np.asarray(x))\n",
        "y = np.asarray(y)"
      ],
      "metadata": {
        "id": "AiJQsc7DlzAa"
      },
      "execution_count": null,
      "outputs": []
    },
    {
      "cell_type": "markdown",
      "source": [
        "Precision=92.0%, Recall=92.4%, F1=92.1%, Accuracy=92.4%"
      ],
      "metadata": {
        "id": "6PkkGoNplzsN"
      }
    },
    {
      "cell_type": "markdown",
      "source": [
        "Feature 2"
      ],
      "metadata": {
        "id": "1Rz-Qwxll_oM"
      }
    },
    {
      "cell_type": "code",
      "source": [
        "# use dev set to find a appropriate size of vocabulary\n",
        "cur_size = 20\n",
        "vocabulary = []\n",
        "accuracy = 0\n",
        "svm_clf_category = sklearn.svm.SVC(kernel=\"linear\",gamma=\"auto\")\n",
        "while accuracy < 0.9:\n",
        "    # generate vocabulary\n",
        "    vocabulary = []\n",
        "    for word,fre in sorted_list[:cur_size]:\n",
        "        vocabulary.append(word)\n",
        "    \n",
        "    # prepare x and y for model fit\n",
        "    x = []\n",
        "    y = []\n",
        "    for index in x_train.index:\n",
        "        article = x_train[index]\n",
        "        vector = np.zeros(len(vocabulary))\n",
        "        words=[]\n",
        "        sentences = nltk.tokenize.sent_tokenize(article)\n",
        "        for sent in sentences:\n",
        "            tokens = nltk.tokenize.word_tokenize(sent)\n",
        "            for token in tokens:\n",
        "              word = lemmatizer.lemmatize(token).lower()\n",
        "              words.append(word)\n",
        "        for i, word in enumerate(vocabulary):\n",
        "            if word in words:\n",
        "                vector[i] =words.count(word)\n",
        "        x.append(vector)\n",
        "        y.append(y_train[index])\n",
        "    \n",
        "    # fit model\n",
        "    svm_clf_category.fit(np.asarray(x), np.asarray(y))\n",
        "    \n",
        "    # prepare dev set for predictions\n",
        "    x = []\n",
        "    y = []\n",
        "    for index in x_dev.index:\n",
        "        article = x_dev[index]\n",
        "        vector = np.zeros(len(vocabulary))\n",
        "        words=[]\n",
        "        sentences = nltk.tokenize.sent_tokenize(article)\n",
        "        for sent in sentences:\n",
        "          tokens = nltk.tokenize.word_tokenize(sent)\n",
        "          for token in tokens:\n",
        "            word = lemmatizer.lemmatize(token).lower()\n",
        "            words.append(word)\n",
        "        for i, word in enumerate(vocabulary):\n",
        "            if word in words:\n",
        "                vector[i] =words.count(word)\n",
        "        x.append(vector)\n",
        "        y.append(y_dev[index])\n",
        "    \n",
        "    # predict accuracy\n",
        "    prediction = svm_clf_category.predict(np.asarray(x))\n",
        "    y = np.asarray(y)\n",
        "    accuracy = accuracy_score(y, prediction)\n",
        "    print(\"cur_size: \" + str(cur_size) + \", accuracy: \" + str(accuracy))\n",
        "    \n",
        "    # increase current size for better accuracy\n",
        "    cur_size += 20"
      ],
      "metadata": {
        "id": "fVaepm4ymFQs"
      },
      "execution_count": null,
      "outputs": []
    },
    {
      "cell_type": "markdown",
      "source": [
        "Performance"
      ],
      "metadata": {
        "id": "WK6ATY3kmGjD"
      }
    },
    {
      "cell_type": "code",
      "source": [
        "# use test set for final score\n",
        "x = []\n",
        "y = []\n",
        "for index in x_test.index:\n",
        "  article = x_test[index]\n",
        "  vector = np.zeros(len(vocabulary))\n",
        "  words=[]\n",
        "  sentences = nltk.tokenize.sent_tokenize(article)\n",
        "  for sent in sentences:\n",
        "    tokens = nltk.tokenize.word_tokenize(sent)\n",
        "    for token in tokens:\n",
        "      word = lemmatizer.lemmatize(token).lower()\n",
        "      words.append(word)\n",
        "  for i, word in enumerate(vocabulary):\n",
        "    if word in words:\n",
        "      vector[i] =words.count(word)\n",
        "  x.append(vector)\n",
        "  y.append(y_test[index])\n",
        "prediction = svm_clf_category.predict(np.asarray(x))\n",
        "y = np.asarray(y)"
      ],
      "metadata": {
        "id": "ED8Z9Y_OmIXE"
      },
      "execution_count": null,
      "outputs": []
    },
    {
      "cell_type": "markdown",
      "source": [
        "Precision=88.7%, Recall=88.8%, F1=88.7%, Accuracy=89.2%"
      ],
      "metadata": {
        "id": "tY1uj3IjmLZc"
      }
    },
    {
      "cell_type": "markdown",
      "source": [
        "Feature 3"
      ],
      "metadata": {
        "id": "rj_QAoCQmPfM"
      }
    },
    {
      "cell_type": "code",
      "source": [
        "tfidf_vector = TfidfVectorizer()\n",
        "tfidf_vector.fit(x_train)\n",
        "tfidf_train_x = tfidf_vector.transform(x_train)\n",
        "tfidf_test_x  = tfidf_vector.transform(x_test)\n",
        "svm_clf_category = sklearn.svm.SVC(kernel=\"linear\",gamma=\"auto\")\n",
        "svm_clf_category.fit(tfidf_train_x, y_train.to_numpy())"
      ],
      "metadata": {
        "id": "qBDDn2FnmRlN"
      },
      "execution_count": null,
      "outputs": []
    },
    {
      "cell_type": "markdown",
      "source": [
        "Performance"
      ],
      "metadata": {
        "id": "VW8ncEthmuCW"
      }
    },
    {
      "cell_type": "code",
      "source": [
        "svm_clf_category.fit(tfidf_train_x, y_train.to_numpy())\n",
        "prediction = svm_clf_category.predict(tfidf_test_x)\n",
        "tfidf_test_y = y_test.to_numpy()"
      ],
      "metadata": {
        "id": "ZgKqHPtzmtVu"
      },
      "execution_count": null,
      "outputs": []
    },
    {
      "cell_type": "markdown",
      "source": [
        "Precision=97.6%, Recall=97.8%, F1=97.7%, Accuracy=97.8%"
      ],
      "metadata": {
        "id": "FotlNJM8myzG"
      }
    }
  ]
}