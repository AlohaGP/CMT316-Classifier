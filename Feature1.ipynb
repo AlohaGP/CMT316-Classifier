{
  "cells": [
    {
      "cell_type": "code",
      "execution_count": null,
      "metadata": {
        "id": "_nrTCC82pTCl"
      },
      "outputs": [],
      "source": [
        "import os\n",
        "import nltk\n",
        "import numpy as np\n",
        "import pandas as pd\n",
        "import sklearn\n",
        "import operator\n",
        "import random\n",
        "from sklearn.model_selection import train_test_split\n",
        "from nltk.corpus import stopwords \n",
        "from google.colab import drive\n",
        "from sklearn.metrics import precision_score, recall_score, f1_score,accuracy_score\n",
        "nltk.download('stopwords')\n",
        "nltk.download('punkt')\n",
        "nltk.download('wordnet')"
      ]
    },
    {
      "cell_type": "code",
      "execution_count": null,
      "metadata": {
        "id": "tJA2OevhOO0i"
      },
      "outputs": [],
      "source": [
        "drive.mount('/content/drive')\n",
        "category=['business', 'entertainment', 'politics', 'sport', 'tech',]\n",
        "dataset_path='/content/drive/MyDrive/bbc/'"
      ]
    },
    {
      "cell_type": "code",
      "execution_count": null,
      "metadata": {
        "id": "XUGSf1FJQ-zf"
      },
      "outputs": [],
      "source": [
        "dataset_path=os.getcwd()+'/drive/MyDrive/bbc'\n",
        "list_FilesName=os.listdir(dataset_path)\n",
        "print(list_FilesName)"
      ]
    },
    {
      "cell_type": "code",
      "execution_count": null,
      "metadata": {
        "id": "smGmTaYFil4K"
      },
      "outputs": [],
      "source": [
        "ori_data=[]\n",
        "for c in category:\n",
        "  for file_name in os.listdir(dataset_path + \"/\" + c):\n",
        "    file = open(dataset_path + \"/\" + c + \"/\" +file_name, \"r\")\n",
        "    ori_data.append([file.read(), c])\n",
        "    file.close()\n",
        "All_data = pd.DataFrame(ori_data, columns=[\"content\",\"category\"])\n",
        "All_data.shape\n",
        "x_data = All_data.iloc[: , 0]\n",
        "y_data = All_data.iloc[: , -1]"
      ]
    },
    {
      "cell_type": "code",
      "execution_count": null,
      "metadata": {
        "id": "o5tYHpZEY9g9"
      },
      "outputs": [],
      "source": [
        "x_train, x_test, y_train, y_test = train_test_split(x_data, y_data, test_size=0.2, random_state=1)\n",
        "x_dev, x_test, y_dev, y_test = train_test_split(x_test, y_test, test_size=0.5, random_state=1)"
      ]
    },
    {
      "cell_type": "code",
      "execution_count": null,
      "metadata": {
        "id": "gC1AggJjbSlM"
      },
      "outputs": [],
      "source": [
        "stopwords=set(nltk.corpus.stopwords.words('english'))\n",
        "stopwords.add(\".\")\n",
        "stopwords.add(\",\")\n",
        "stopwords.add(\"-\")\n",
        "stopwords.add(\"``\")\n",
        "stopwords.add(\"/\")\n",
        "stopwords.add(\"(\")\n",
        "stopwords.add(\")\")\n",
        "stopwords.add(\"{\")\n",
        "stopwords.add(\"}\")\n",
        "stopwords.add(\"@\")\n",
        "stopwords.add(\"|\")\n",
        "stopwords.add(\";\")\n",
        "stopwords.add(\"\\n\")\n",
        "stopwords.add(\"#\")\n",
        "stopwords.add(\"+\")\n",
        "stopwords.add(\"_\")\n",
        "stopwords.add(\"''\")\n",
        "stopwords.add(\":\")\n",
        "stopwords.add(\"%\")\n",
        "stopwords.add(\"$\")\n",
        "stopwords.add(\"&\")\n",
        "stopwords.add(\"'\")\n",
        "\n",
        "lemmatizer = nltk.stem.WordNetLemmatizer()"
      ]
    },
    {
      "cell_type": "code",
      "execution_count": null,
      "metadata": {
        "id": "iTE6thxWbq6y"
      },
      "outputs": [],
      "source": [
        "word_fre = {}\n",
        "for article in x_train:\n",
        "  sentences = nltk.tokenize.sent_tokenize(article)\n",
        "  for sent in sentences:\n",
        "    tokens = nltk.tokenize.word_tokenize(sent)\n",
        "    for token in tokens:\n",
        "      word = lemmatizer.lemmatize(token).lower()\n",
        "      if word in stopwords: continue\n",
        "      if word in word_fre: word_fre[word] += 1\n",
        "      else: word_fre[word] = 1\n",
        "sorted_list = sorted(word_fre.items(), key = operator.itemgetter(1), reverse = True)"
      ]
    },
    {
      "cell_type": "code",
      "execution_count": null,
      "metadata": {
        "id": "kC_nLE5LISaL"
      },
      "outputs": [],
      "source": [
        "cur_size = 20\n",
        "vocabulary = []\n",
        "accuracy = 0\n",
        "svm_clf_category = sklearn.svm.SVC(kernel=\"linear\",gamma=\"auto\")\n",
        "while accuracy < 0.9:\n",
        "    # generate vocabulary\n",
        "    vocabulary = []\n",
        "    for word,fre in sorted_list[:cur_size]:\n",
        "        vocabulary.append(word)\n",
        "    \n",
        "    # prepare x and y for model fit\n",
        "    x = []\n",
        "    y = []\n",
        "    for index in x_train.index:\n",
        "        article = x_train[index]\n",
        "        vector = np.zeros(len(vocabulary))\n",
        "        words=[]\n",
        "        sentences = nltk.tokenize.sent_tokenize(article)\n",
        "        for sent in sentences:\n",
        "            tokens = nltk.tokenize.word_tokenize(sent)\n",
        "            for token in tokens:\n",
        "              word = lemmatizer.lemmatize(token).lower()\n",
        "              words.append(word)\n",
        "        for i, word in enumerate(vocabulary):\n",
        "            if word in words:\n",
        "                vector[i] =words.count(word)\n",
        "        x.append(vector)\n",
        "        y.append(y_train[index])\n",
        "    \n",
        "    # fit model\n",
        "    svm_clf_category.fit(np.asarray(x), np.asarray(y))\n",
        "    \n",
        "    # prepare dev set for predictions\n",
        "    x = []\n",
        "    y = []\n",
        "    for index in x_dev.index:\n",
        "        article = x_dev[index]\n",
        "        vector = np.zeros(len(vocabulary))\n",
        "        words=[]\n",
        "        sentences = nltk.tokenize.sent_tokenize(article)\n",
        "        for sent in sentences:\n",
        "          tokens = nltk.tokenize.word_tokenize(sent)\n",
        "          for token in tokens:\n",
        "            word = lemmatizer.lemmatize(token).lower()\n",
        "            words.append(word)\n",
        "        for i, word in enumerate(vocabulary):\n",
        "            if word in words:\n",
        "                vector[i] =words.count(word)\n",
        "        x.append(vector)\n",
        "        y.append(y_dev[index])\n",
        "    \n",
        "    # predict accuracy\n",
        "    prediction = svm_clf_category.predict(np.asarray(x))\n",
        "    y = np.asarray(y)\n",
        "    accuracy = accuracy_score(y, prediction)\n",
        "    print(\"cur_size: \" + str(cur_size) + \", accuracy: \" + str(accuracy))\n",
        "    \n",
        "    # increase current size for better accuracy\n",
        "    cur_size += 20"
      ]
    },
    {
      "cell_type": "code",
      "execution_count": null,
      "metadata": {
        "id": "gregyc0PISaM"
      },
      "outputs": [],
      "source": [
        "# use test set for final score\n",
        "x = []\n",
        "y = []\n",
        "for index in x_test.index:\n",
        "  article = x_test[index]\n",
        "  vector = np.zeros(len(vocabulary))\n",
        "  words=[]\n",
        "  sentences = nltk.tokenize.sent_tokenize(article)\n",
        "  for sent in sentences:\n",
        "    tokens = nltk.tokenize.word_tokenize(sent)\n",
        "    for token in tokens:\n",
        "      word = lemmatizer.lemmatize(token).lower()\n",
        "      words.append(word)\n",
        "  for i, word in enumerate(vocabulary):\n",
        "    if word in words:\n",
        "      vector[i] =words.count(word)\n",
        "  x.append(vector)\n",
        "  y.append(y_test[index])\n",
        "prediction = svm_clf_category.predict(np.asarray(x))\n",
        "y = np.asarray(y)\n",
        "print(precision_score(y, prediction, average='macro'))\n",
        "print(recall_score(y, prediction, average='macro'))\n",
        "print(f1_score(y, prediction, average='macro'))\n",
        "print(accuracy_score(y, prediction))"
      ]
    }
  ],
  "metadata": {
    "colab": {
      "name": "Feature1_right.ipynb",
      "provenance": [],
      "collapsed_sections": []
    },
    "kernelspec": {
      "display_name": "Python 3 (ipykernel)",
      "language": "python",
      "name": "python3"
    },
    "language_info": {
      "codemirror_mode": {
        "name": "ipython",
        "version": 3
      },
      "file_extension": ".py",
      "mimetype": "text/x-python",
      "name": "python",
      "nbconvert_exporter": "python",
      "pygments_lexer": "ipython3",
      "version": "3.8.10"
    }
  },
  "nbformat": 4,
  "nbformat_minor": 0
}