{
  "nbformat": 4,
  "nbformat_minor": 0,
  "metadata": {
    "colab": {
      "name": "Feature3_right.ipynb",
      "provenance": [],
      "collapsed_sections": []
    },
    "kernelspec": {
      "name": "python3",
      "display_name": "Python 3"
    },
    "language_info": {
      "name": "python"
    }
  },
  "cells": [
    {
      "cell_type": "code",
      "source": [
        "import os\n",
        "import nltk\n",
        "import numpy as np\n",
        "import pandas as pd\n",
        "import sklearn\n",
        "import operator\n",
        "import random\n",
        "from sklearn.model_selection import train_test_split\n",
        "from sklearn.feature_extraction.text import TfidfVectorizer\n",
        "from nltk.corpus import stopwords \n",
        "from google.colab import drive\n",
        "from sklearn.metrics import precision_score, recall_score, f1_score,accuracy_score\n",
        "nltk.download('stopwords')\n",
        "nltk.download('punkt')\n",
        "nltk.download('wordnet')"
      ],
      "metadata": {
        "id": "_nrTCC82pTCl"
      },
      "execution_count": null,
      "outputs": []
    },
    {
      "cell_type": "code",
      "source": [
        "#set directory for categories\n",
        "drive.mount('/content/drive')\n",
        "category=['business', 'entertainment', 'politics', 'sport', 'tech',]\n",
        "dataset_path='/content/drive/MyDrive/bbc/'"
      ],
      "metadata": {
        "id": "tJA2OevhOO0i"
      },
      "execution_count": null,
      "outputs": []
    },
    {
      "cell_type": "code",
      "source": [
        "dataset_path=os.getcwd()+'/drive/MyDrive/bbc'\n",
        "list_FilesName=os.listdir(dataset_path)\n",
        "print(list_FilesName)"
      ],
      "metadata": {
        "id": "XUGSf1FJQ-zf"
      },
      "execution_count": null,
      "outputs": []
    },
    {
      "cell_type": "code",
      "source": [
        "root_data=[]\n",
        "for c in category:\n",
        "  for file_name in os.listdir(dataset_path + \"/\" + c):\n",
        "    ###print(dataset_path + \"/\" + c + \"/\" +file_name)\n",
        "    file = open(dataset_path + \"/\" + c + \"/\" +file_name, \"r\")\n",
        "    root_data.append([file.read(), c])\n",
        "    file.close()\n",
        "All_data = pd.DataFrame(root_data, columns=[\"content\",\"category\"])\n",
        "All_data.shape\n",
        "x_data = All_data.iloc[: , 0]\n",
        "y_data = All_data.iloc[: , -1]"
      ],
      "metadata": {
        "id": "smGmTaYFil4K"
      },
      "execution_count": 13,
      "outputs": []
    },
    {
      "cell_type": "code",
      "source": [
        "x_train, x_test, y_train, y_test = train_test_split(x_data, y_data, test_size=0.2, random_state=1)\n",
        "x_dev, x_test, y_dev, y_test = train_test_split(x_test, y_test, test_size=0.5, random_state=1)"
      ],
      "metadata": {
        "id": "o5tYHpZEY9g9"
      },
      "execution_count": 14,
      "outputs": []
    },
    {
      "cell_type": "code",
      "source": [
        "tfidf_vector = TfidfVectorizer()\n",
        "tfidf_vector.fit(x_train)\n",
        "tfidf_train_x = tfidf_vector.transform(x_train)\n",
        "tfidf_test_x  = tfidf_vector.transform(x_test)\n",
        "svm_clf_category = sklearn.svm.SVC(kernel=\"linear\",gamma=\"auto\")\n",
        "svm_clf_category.fit(tfidf_train_x, y_train.to_numpy())\n",
        "prediction = svm_clf_category.predict(tfidf_test_x)\n",
        "tfidf_test_y = y_test.to_numpy()"
      ],
      "metadata": {
        "id": "5ejesaLks_N5"
      },
      "execution_count": 18,
      "outputs": []
    },
    {
      "cell_type": "code",
      "source": [
        "pre = precision_score(tfidf_test_y, prediction, average='macro')\n",
        "rec = recall_score(tfidf_test_y, prediction, average='macro')\n",
        "f1  = f1_score(tfidf_test_y, prediction, average='macro')\n",
        "acc = accuracy_score(tfidf_test_y, prediction)\n",
        "\n",
        "print(pre, rec, f1, acc)"
      ],
      "metadata": {
        "id": "f1HuHZ7UwGlb"
      },
      "execution_count": null,
      "outputs": []
    }
  ]
}